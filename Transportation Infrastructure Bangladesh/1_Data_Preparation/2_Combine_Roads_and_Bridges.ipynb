{
 "cells": [
  {
   "cell_type": "markdown",
   "metadata": {},
   "source": [
    "# Combining Roads and Bridges Data\n",
    "\n",
    "In this Jupyter Notebook, roads and bridges data is combined and intersections are made."
   ]
  },
  {
   "cell_type": "code",
   "execution_count": 1,
   "metadata": {},
   "outputs": [],
   "source": [
    "import numpy as np\n",
    "import pandas as pd"
   ]
  },
  {
   "cell_type": "markdown",
   "metadata": {},
   "source": [
    "The roads and bridges files are loaded in. Note that this Jupyter Notebook needs to be in the same folder as the files"
   ]
  },
  {
   "cell_type": "code",
   "execution_count": 2,
   "metadata": {},
   "outputs": [],
   "source": [
    "# Import the roads and bridges\n",
    "roads = pd.read_csv('data/_roads3.csv')\n",
    "df = pd.read_excel('data/BMMS_overview.xlsx')"
   ]
  },
  {
   "cell_type": "markdown",
   "metadata": {},
   "source": [
    "Here the main roads are given as input. This is the only thing that the user needs to fill in."
   ]
  },
  {
   "cell_type": "code",
   "execution_count": 3,
   "metadata": {},
   "outputs": [],
   "source": [
    "# Give input of main roads here\n",
    "mainroads = ['N1', 'N2']"
   ]
  },
  {
   "cell_type": "markdown",
   "metadata": {},
   "source": [
    "Approach\n",
    "\n",
    "- Find side roads\n",
    "- Find the start and end of roads\n",
    "- Sort roads data by length\n",
    "- Select roads based on length (>25 km)\n",
    "- Save start and end of roads in a dataframe"
   ]
  },
  {
   "cell_type": "code",
   "execution_count": 4,
   "metadata": {},
   "outputs": [
    {
     "data": {
      "text/plain": [
       "array(['N1', 'N102', 'N104', 'N105', 'N106', 'N107', 'N108', 'N110', 'N2',\n",
       "       'N204', 'N205', 'N206', 'N207', 'N208', 'N209'], dtype=object)"
      ]
     },
     "execution_count": 4,
     "metadata": {},
     "output_type": "execute_result"
    }
   ],
   "source": [
    "df1= df.copy()\n",
    "dictmainroads = {}\n",
    "\n",
    "for road in mainroads:\n",
    "    df2 = df1.loc[(df1['road'].str.startswith(road, na=False))]\n",
    "    dictmainroads[road] = df2\n",
    "    \n",
    "selectedroads = pd.concat(dictmainroads.values(), ignore_index=True)\n",
    "\n",
    "# See what are our initial target roads\n",
    "selectedroads.road.unique()"
   ]
  },
  {
   "cell_type": "code",
   "execution_count": 5,
   "metadata": {},
   "outputs": [],
   "source": [
    "# Find end of roads\n",
    "dictendroads= {}\n",
    "for road in selectedroads.road.unique():\n",
    "    sel = roads.loc[(roads['road']== road)]\n",
    "    select = sel.iloc[-1:]\n",
    "    dictendroads[road] = select\n",
    "    \n",
    "roadends = pd.concat(dictendroads.values(), ignore_index=True)\n",
    "\n",
    "# Find start of roads\n",
    "dictstartroads = {}\n",
    "for road in selectedroads.road.unique():\n",
    "    sel = roads.loc[(roads['road']== road)]\n",
    "    select = sel.iloc[:1]\n",
    "    dictstartroads[road] = select\n",
    "    \n",
    "roadstarts = pd.concat(dictstartroads.values(), ignore_index=True)\n",
    "\n",
    "final_selection = pd.concat((roadends, roadstarts), ignore_index=True)"
   ]
  },
  {
   "cell_type": "code",
   "execution_count": 6,
   "metadata": {},
   "outputs": [
    {
     "data": {
      "text/plain": [
       "array(['N1', 'N102', 'N104', 'N105', 'N106', 'N2', 'N204', 'N207', 'N208'],\n",
       "      dtype=object)"
      ]
     },
     "execution_count": 6,
     "metadata": {},
     "output_type": "execute_result"
    }
   ],
   "source": [
    "# Sort entries by road\n",
    "roadends.sort_values(by='road',inplace=True)\n",
    "\n",
    "finalselectedroads = roadends.loc[roadends.chainage > 25]\n",
    "\n",
    "finalselectedroads.road.unique()"
   ]
  },
  {
   "cell_type": "code",
   "execution_count": 7,
   "metadata": {},
   "outputs": [],
   "source": [
    "# Select identified roads\n",
    "dictfinalselectedroads = {}\n",
    "\n",
    "for road in finalselectedroads.road.unique():\n",
    "    selected = final_selection.loc[(final_selection['road']== road)]\n",
    "    dictfinalselectedroads[road] = selected\n",
    "    \n",
    "final_selection = pd.concat(dictfinalselectedroads.values(), ignore_index=True)"
   ]
  },
  {
   "cell_type": "code",
   "execution_count": 8,
   "metadata": {},
   "outputs": [],
   "source": [
    "# Change name to avoid confusion later\n",
    "ends=final_selection"
   ]
  },
  {
   "cell_type": "markdown",
   "metadata": {},
   "source": [
    "The bridges file is also edited. Unnecessary columns are dropped and an extra column is created to combine bridges later."
   ]
  },
  {
   "cell_type": "code",
   "execution_count": 9,
   "metadata": {},
   "outputs": [
    {
     "data": {
      "text/html": [
       "<div>\n",
       "<style scoped>\n",
       "    .dataframe tbody tr th:only-of-type {\n",
       "        vertical-align: middle;\n",
       "    }\n",
       "\n",
       "    .dataframe tbody tr th {\n",
       "        vertical-align: top;\n",
       "    }\n",
       "\n",
       "    .dataframe thead th {\n",
       "        text-align: right;\n",
       "    }\n",
       "</style>\n",
       "<table border=\"1\" class=\"dataframe\">\n",
       "  <thead>\n",
       "    <tr style=\"text-align: right;\">\n",
       "      <th></th>\n",
       "      <th>road</th>\n",
       "      <th>km</th>\n",
       "      <th>LRPName</th>\n",
       "      <th>length</th>\n",
       "      <th>condition</th>\n",
       "      <th>lat</th>\n",
       "      <th>lon</th>\n",
       "    </tr>\n",
       "  </thead>\n",
       "  <tbody>\n",
       "    <tr>\n",
       "      <th>0</th>\n",
       "      <td>N1</td>\n",
       "      <td>1.800</td>\n",
       "      <td>LRP001a</td>\n",
       "      <td>11.30</td>\n",
       "      <td>A</td>\n",
       "      <td>23.698739</td>\n",
       "      <td>90.458861</td>\n",
       "    </tr>\n",
       "    <tr>\n",
       "      <th>1</th>\n",
       "      <td>N1</td>\n",
       "      <td>4.925</td>\n",
       "      <td>LRP004b</td>\n",
       "      <td>6.60</td>\n",
       "      <td>A</td>\n",
       "      <td>23.694664</td>\n",
       "      <td>90.487775</td>\n",
       "    </tr>\n",
       "    <tr>\n",
       "      <th>2</th>\n",
       "      <td>N1</td>\n",
       "      <td>8.976</td>\n",
       "      <td>LRP008b</td>\n",
       "      <td>394.23</td>\n",
       "      <td>A</td>\n",
       "      <td>23.705060</td>\n",
       "      <td>90.523214</td>\n",
       "    </tr>\n",
       "    <tr>\n",
       "      <th>3</th>\n",
       "      <td>N1</td>\n",
       "      <td>10.880</td>\n",
       "      <td>LRP010b</td>\n",
       "      <td>6.30</td>\n",
       "      <td>A</td>\n",
       "      <td>23.694391</td>\n",
       "      <td>90.537574</td>\n",
       "    </tr>\n",
       "    <tr>\n",
       "      <th>4</th>\n",
       "      <td>N1</td>\n",
       "      <td>10.897</td>\n",
       "      <td>LRP010c</td>\n",
       "      <td>6.30</td>\n",
       "      <td>A</td>\n",
       "      <td>23.694302</td>\n",
       "      <td>90.537707</td>\n",
       "    </tr>\n",
       "  </tbody>\n",
       "</table>\n",
       "</div>"
      ],
      "text/plain": [
       "  road      km  LRPName  length condition        lat        lon\n",
       "0   N1   1.800  LRP001a   11.30         A  23.698739  90.458861\n",
       "1   N1   4.925  LRP004b    6.60         A  23.694664  90.487775\n",
       "2   N1   8.976  LRP008b  394.23         A  23.705060  90.523214\n",
       "3   N1  10.880  LRP010b    6.30         A  23.694391  90.537574\n",
       "4   N1  10.897  LRP010c    6.30         A  23.694302  90.537707"
      ]
     },
     "execution_count": 9,
     "metadata": {},
     "output_type": "execute_result"
    }
   ],
   "source": [
    "# Drop unnecessary columns\n",
    "df1=df.copy()\n",
    "df1 = df1.drop(['type', 'chainage', 'name', 'structureNr', 'roadName', 'width', 'constructionYear', 'spans', 'zone', 'circle', 'division', 'sub-division', 'EstimatedLoc'], axis=1)\n",
    "df1.head(5)"
   ]
  },
  {
   "cell_type": "code",
   "execution_count": 10,
   "metadata": {},
   "outputs": [
    {
     "data": {
      "text/html": [
       "<div>\n",
       "<style scoped>\n",
       "    .dataframe tbody tr th:only-of-type {\n",
       "        vertical-align: middle;\n",
       "    }\n",
       "\n",
       "    .dataframe tbody tr th {\n",
       "        vertical-align: top;\n",
       "    }\n",
       "\n",
       "    .dataframe thead th {\n",
       "        text-align: right;\n",
       "    }\n",
       "</style>\n",
       "<table border=\"1\" class=\"dataframe\">\n",
       "  <thead>\n",
       "    <tr style=\"text-align: right;\">\n",
       "      <th></th>\n",
       "      <th>road</th>\n",
       "      <th>km</th>\n",
       "      <th>LRPName</th>\n",
       "      <th>length</th>\n",
       "      <th>condition</th>\n",
       "      <th>lat</th>\n",
       "      <th>lon</th>\n",
       "      <th>LRPnumber</th>\n",
       "    </tr>\n",
       "  </thead>\n",
       "  <tbody>\n",
       "    <tr>\n",
       "      <th>0</th>\n",
       "      <td>N1</td>\n",
       "      <td>1.800</td>\n",
       "      <td>LRP001a</td>\n",
       "      <td>11.30</td>\n",
       "      <td>A</td>\n",
       "      <td>23.698739</td>\n",
       "      <td>90.458861</td>\n",
       "      <td>LRP001</td>\n",
       "    </tr>\n",
       "    <tr>\n",
       "      <th>1</th>\n",
       "      <td>N1</td>\n",
       "      <td>4.925</td>\n",
       "      <td>LRP004b</td>\n",
       "      <td>6.60</td>\n",
       "      <td>A</td>\n",
       "      <td>23.694664</td>\n",
       "      <td>90.487775</td>\n",
       "      <td>LRP004</td>\n",
       "    </tr>\n",
       "    <tr>\n",
       "      <th>2</th>\n",
       "      <td>N1</td>\n",
       "      <td>8.976</td>\n",
       "      <td>LRP008b</td>\n",
       "      <td>394.23</td>\n",
       "      <td>A</td>\n",
       "      <td>23.705060</td>\n",
       "      <td>90.523214</td>\n",
       "      <td>LRP008</td>\n",
       "    </tr>\n",
       "    <tr>\n",
       "      <th>3</th>\n",
       "      <td>N1</td>\n",
       "      <td>10.880</td>\n",
       "      <td>LRP010b</td>\n",
       "      <td>6.30</td>\n",
       "      <td>A</td>\n",
       "      <td>23.694391</td>\n",
       "      <td>90.537574</td>\n",
       "      <td>LRP010</td>\n",
       "    </tr>\n",
       "    <tr>\n",
       "      <th>4</th>\n",
       "      <td>N1</td>\n",
       "      <td>10.897</td>\n",
       "      <td>LRP010c</td>\n",
       "      <td>6.30</td>\n",
       "      <td>A</td>\n",
       "      <td>23.694302</td>\n",
       "      <td>90.537707</td>\n",
       "      <td>LRP010</td>\n",
       "    </tr>\n",
       "  </tbody>\n",
       "</table>\n",
       "</div>"
      ],
      "text/plain": [
       "  road      km  LRPName  length condition        lat        lon LRPnumber\n",
       "0   N1   1.800  LRP001a   11.30         A  23.698739  90.458861    LRP001\n",
       "1   N1   4.925  LRP004b    6.60         A  23.694664  90.487775    LRP004\n",
       "2   N1   8.976  LRP008b  394.23         A  23.705060  90.523214    LRP008\n",
       "3   N1  10.880  LRP010b    6.30         A  23.694391  90.537574    LRP010\n",
       "4   N1  10.897  LRP010c    6.30         A  23.694302  90.537707    LRP010"
      ]
     },
     "execution_count": 10,
     "metadata": {},
     "output_type": "execute_result"
    }
   ],
   "source": [
    "# Drop duplicates of multiple bridges on the same location later on so remove the LRP extension to enable that.\n",
    "df2=df1.copy()\n",
    "df2['LRPnumber'] = df2['LRPName'].str[:6]\n",
    "df2.head(5)"
   ]
  },
  {
   "cell_type": "markdown",
   "metadata": {},
   "source": [
    "The road ends are formatted so they can be put in the bridge dataframe"
   ]
  },
  {
   "cell_type": "code",
   "execution_count": 11,
   "metadata": {},
   "outputs": [],
   "source": [
    "#format the road ends to the same format as the bridges df\n",
    "ends['model_type']= \"sourcesink\"\n",
    "ends['condition']='K'\n",
    "ends['length']=1\n",
    "ends.rename(columns=({\"chainage\": \"km\",'lrp':'LRPnumber'}),inplace=True)\n",
    "ends.drop(['gap', 'type','name'], axis=1,inplace=True)\n",
    "ends['LRPnumber'] = ends['LRPnumber'].replace(['LRP048'],'LRPE')"
   ]
  },
  {
   "cell_type": "markdown",
   "metadata": {},
   "source": [
    "Here different roads are combined\n",
    "\n",
    "- A dataframe for every road is made \n",
    "- Duplicate bridges are aggregated into 1 bridge\n",
    "- The road ends and starts are added to the dataframe\n",
    "- These are sorted by kilometer (this should not be necessary but it is a assurance that the bridges are in the right order)\n",
    "- The links are made in a different dataframe\n",
    "- The length, latitude, and longitude of the links are calculated by taking the average of the two bridges surrounding the link\n",
    "- The roads and links are combined in one dataframe"
   ]
  },
  {
   "cell_type": "code",
   "execution_count": 12,
   "metadata": {},
   "outputs": [
    {
     "name": "stderr",
     "output_type": "stream",
     "text": [
      "C:\\Users\\Jip\\Anaconda3\\lib\\site-packages\\ipykernel_launcher.py:20: FutureWarning: Sorting because non-concatenation axis is not aligned. A future version\n",
      "of pandas will change to not sort by default.\n",
      "\n",
      "To accept the future behavior, pass 'sort=False'.\n",
      "\n",
      "To retain the current behavior and silence the warning, pass 'sort=True'.\n",
      "\n",
      "C:\\Users\\Jip\\Anaconda3\\lib\\site-packages\\ipykernel_launcher.py:23: FutureWarning: Sorting because non-concatenation axis is not aligned. A future version\n",
      "of pandas will change to not sort by default.\n",
      "\n",
      "To accept the future behavior, pass 'sort=False'.\n",
      "\n",
      "To retain the current behavior and silence the warning, pass 'sort=True'.\n",
      "\n"
     ]
    }
   ],
   "source": [
    "# List of all road names needed\n",
    "relevantroadnames = ends.road.unique()\n",
    "\n",
    "# Store all roads in dictionary. These will be added together later.\n",
    "d ={}\n",
    "\n",
    "#Iterating over all rows\n",
    "for road in relevantroadnames:\n",
    "    #Selecting one road in a dataframe\n",
    "    df3 = df2.loc[df2['road'] == road]\n",
    "    #Delete duplicates\n",
    "    aggregation_functions = {'road': 'first', 'km': 'mean', 'length': 'mean', 'condition': 'first', 'lat': 'mean', 'lon': 'mean'}\n",
    "    df3=df3.groupby(df3['LRPnumber']).aggregate(aggregation_functions).reset_index()\n",
    "    #Add model type bridge\n",
    "    df3['model_type']='bridge'\n",
    "    df3=df3[['road', 'km', 'model_type', 'LRPnumber', 'lat', 'lon', 'length', 'condition']]\n",
    "    \n",
    "    #Add first sourcesink\n",
    "    first = ends.loc[(ends['road']== road) & (ends['km']==0)]\n",
    "    df3=pd.concat([first,df3])\n",
    "    #Add second sourcesink\n",
    "    second = ends.loc[(ends['road']== road) & (ends['km']!=0)]\n",
    "    df3=pd.concat([df3,second])\n",
    "    \n",
    "    #Sort by kilometer\n",
    "    df3=df3.sort_values(by='km')\n",
    "    \n",
    "    #Adding the links between the rows\n",
    "    dfr1=df3.copy()\n",
    "    dfr1['model_type']='link'\n",
    "    #Add right lenght and distance from start\n",
    "    dfr1['km']=dfr1['km']+(dfr1['length']/1000)\n",
    "    dfr1['length']=(df3['km'].shift(-1)-dfr1['km'])*1000    #Start of bridge - start of road\n",
    "    #Add roadname\n",
    "    dfr1['LRPnumber'] = 'road' + dfr1['LRPnumber'].astype(str)\n",
    "    #Adding the right latitude and longitude\n",
    "    dfr1['lat'] = (dfr1['lat']+dfr1['lat'].shift(-1))/2\n",
    "    dfr1['lon'] = (dfr1['lon']+dfr1['lon'].shift(-1))/2\n",
    "    \n",
    "    #Combining the roads and bridges dataframe\n",
    "    frames = [df3, dfr1]\n",
    "    dftot = pd.concat(frames)\n",
    "    dftot = dftot.sort_values(by='km')\n",
    "    dftot.reset_index(inplace = True)\n",
    "    #Drop index column\n",
    "    dftot.drop(columns = ['index'], inplace = True)\n",
    "    #Drop last row, this is an unnecessary link row\n",
    "    dftot.drop(dftot.tail(1).index,inplace=True)\n",
    "    \n",
    "    d[road]=dftot\n",
    "    \n",
    "#Merging the dataframes of the different roads\n",
    "total = pd.concat(d.values(), ignore_index=True)"
   ]
  },
  {
   "cell_type": "markdown",
   "metadata": {},
   "source": [
    "Some columns are renamed so they fit the Pycharm model"
   ]
  },
  {
   "cell_type": "code",
   "execution_count": 13,
   "metadata": {},
   "outputs": [],
   "source": [
    "# Rename some columns so they match\n",
    "total.rename(columns = {'km':'id'}, inplace = True) \n",
    "total.rename(columns = {'LRPnumber':'name'}, inplace = True) \n",
    "\n",
    "# Reset the id \n",
    "total['id'] = total.index"
   ]
  },
  {
   "cell_type": "markdown",
   "metadata": {},
   "source": [
    "Add the intersections. Note that this analysis assumes that all intersections are at the start or end of a road."
   ]
  },
  {
   "cell_type": "code",
   "execution_count": 14,
   "metadata": {},
   "outputs": [],
   "source": [
    "for i in range(len(total)):\n",
    "    if total.loc[i,'model_type'] == 'sourcesink':\n",
    "        minimum=1000\n",
    "        for index, road in total.iterrows():\n",
    "            if road['road'] != total.loc[i,'road']:\n",
    "                closeness = abs(road['lat']-total.loc[i,'lat'])+abs(road['lon']-total.loc[i,'lon'])\n",
    "                if closeness <= minimum:\n",
    "                    minimum = closeness\n",
    "                    closest = road['id']\n",
    "                    \n",
    "        if minimum <= 0.1:\n",
    "            if total.loc[i, 'name'] == 'LRPS':\n",
    "                total.loc[i+1, 'model_type'] = 'intersection'\n",
    "                total.loc[closest, 'model_type'] = 'intersection'\n",
    "                total.loc[i+1, 'id'] = total.loc[closest, 'id']\n",
    "                total.loc[i+1, 'length'] = total.loc[closest, 'length']\n",
    "                total.loc[i+1, 'lat'] = total.loc[closest, 'lat']\n",
    "                total.loc[i+1, 'lon'] = total.loc[closest, 'lon']\n",
    "\n",
    "            if total.loc[i, 'name'] == 'LRPE':\n",
    "                total.loc[i-1, 'model_type'] = 'intersection'\n",
    "                total.loc[closest, 'model_type'] = 'intersection'\n",
    "                total.loc[i-1, 'id'] = total.loc[closest, 'id']\n",
    "                total.loc[i-1, 'length'] = total.loc[closest, 'length']\n",
    "                total.loc[i-1, 'lat'] = total.loc[closest, 'lat']\n",
    "                total.loc[i-1, 'lon'] = total.loc[closest, 'lon']"
   ]
  },
  {
   "cell_type": "code",
   "execution_count": 15,
   "metadata": {},
   "outputs": [],
   "source": [
    "total.to_csv('Pycharm_roads.csv', index=False)"
   ]
  },
  {
   "cell_type": "code",
   "execution_count": null,
   "metadata": {},
   "outputs": [],
   "source": []
  }
 ],
 "metadata": {
  "kernelspec": {
   "display_name": "Python 3",
   "language": "python",
   "name": "python3"
  },
  "language_info": {
   "codemirror_mode": {
    "name": "ipython",
    "version": 3
   },
   "file_extension": ".py",
   "mimetype": "text/x-python",
   "name": "python",
   "nbconvert_exporter": "python",
   "pygments_lexer": "ipython3",
   "version": "3.7.1"
  }
 },
 "nbformat": 4,
 "nbformat_minor": 4
}
